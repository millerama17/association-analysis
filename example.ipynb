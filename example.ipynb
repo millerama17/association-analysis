{
 "cells": [
  {
   "cell_type": "code",
   "execution_count": 3,
   "id": "0ad54b68",
   "metadata": {},
   "outputs": [],
   "source": [
    "from utils.implementation import *\n",
    "from utils.gap_property import *"
   ]
  },
  {
   "cell_type": "code",
   "execution_count": 9,
   "id": "186c8d61",
   "metadata": {},
   "outputs": [],
   "source": [
    "query_rich = \"\"\"\n",
    "PREFIX wd: <http://www.wikidata.org/entity/>\n",
    "PREFIX wdt: <http://www.wikidata.org/prop/direct/>\n",
    "SELECT ?entity (COUNT(?property) AS ?total) {\n",
    "  \n",
    "  SELECT DISTINCT ?entity ?property\n",
    "    WHERE {\n",
    "    ?entity wdt:P31 wd:Q3624078 .\n",
    "    ?entity ?property ?value .\n",
    "} \n",
    "\n",
    "} GROUP BY ?entity\n",
    "ORDER BY DESC(?total)\n",
    "LIMIT 20\n",
    "\"\"\"\n",
    "\n",
    "query_poor = \"\"\"\n",
    "PREFIX wd: <http://www.wikidata.org/entity/>\n",
    "PREFIX wdt: <http://www.wikidata.org/prop/direct/>\n",
    "SELECT ?entity (COUNT(?property) AS ?total) {\n",
    "  \n",
    "  SELECT DISTINCT ?entity ?property\n",
    "    WHERE {\n",
    "    ?entity wdt:P31 wd:Q3624078 .\n",
    "    ?entity ?property ?value .\n",
    "} \n",
    "\n",
    "} GROUP BY ?entity\n",
    "ORDER BY ?total\n",
    "LIMIT 20\n",
    "\"\"\""
   ]
  },
  {
   "cell_type": "code",
   "execution_count": 10,
   "id": "344d21e7",
   "metadata": {},
   "outputs": [],
   "source": [
    "sparql_endpoint = \"https://query.wikidata.org/sparql\"\n",
    "prop_entity_pairs = [('P31', 'Q3624078')]"
   ]
  },
  {
   "cell_type": "code",
   "execution_count": 11,
   "id": "10de4310",
   "metadata": {},
   "outputs": [],
   "source": [
    "rich_entity = query_entity(sparql_endpoint, query_rich)"
   ]
  },
  {
   "cell_type": "code",
   "execution_count": 12,
   "id": "e354d55f",
   "metadata": {},
   "outputs": [],
   "source": [
    "poor_entity = query_entity(sparql_endpoint, query_poor)"
   ]
  },
  {
   "cell_type": "code",
   "execution_count": 14,
   "id": "12d0caa8",
   "metadata": {},
   "outputs": [],
   "source": [
    "rich_db, poor_db, rich_and_poor_db = get_property_labels_two_lists(rich_entity, poor_entity, sparql_endpoint)"
   ]
  },
  {
   "cell_type": "code",
   "execution_count": 15,
   "id": "02ea9d59",
   "metadata": {},
   "outputs": [],
   "source": [
    "rich_and_poor_df, rich_and_poor_value_list, rich_and_poor_properties = preprocess_db(rich_and_poor_db)"
   ]
  },
  {
   "cell_type": "code",
   "execution_count": 17,
   "id": "56032826",
   "metadata": {},
   "outputs": [],
   "source": [
    "rich_and_poor_df_updated, rich_and_poor_prop_label = fetch_labels_and_update_columns(rich_and_poor_df, \n",
    "                    rich_and_poor_value_list, rich_and_poor_properties)"
   ]
  },
  {
   "cell_type": "code",
   "execution_count": 24,
   "id": "d2dcfd2c",
   "metadata": {},
   "outputs": [],
   "source": [
    "calculate_rule_metrics(rich_and_poor_df_updated, rich_and_poor_prop_label, \"rich\", \"example.csv\")"
   ]
  },
  {
   "cell_type": "code",
   "execution_count": 25,
   "id": "031c0c27",
   "metadata": {},
   "outputs": [],
   "source": [
    "filter_and_export(\"example.csv\", \"gap_properties_example.xlsx\")"
   ]
  },
  {
   "cell_type": "code",
   "execution_count": null,
   "id": "d9a40979",
   "metadata": {},
   "outputs": [],
   "source": []
  }
 ],
 "metadata": {
  "kernelspec": {
   "display_name": "Python 3 (ipykernel)",
   "language": "python",
   "name": "python3"
  },
  "language_info": {
   "codemirror_mode": {
    "name": "ipython",
    "version": 3
   },
   "file_extension": ".py",
   "mimetype": "text/x-python",
   "name": "python",
   "nbconvert_exporter": "python",
   "pygments_lexer": "ipython3",
   "version": "3.7.0"
  }
 },
 "nbformat": 4,
 "nbformat_minor": 5
}
